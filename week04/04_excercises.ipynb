{
 "cells": [
  {
   "cell_type": "markdown",
   "metadata": {},
   "source": [
    "### Class exercise: table\n",
    "![](../../images/numpy_slice_ex.png)\n",
    "- on the above image find the 5 different slicings using only the array slicing notation"
   ]
  },
  {
   "cell_type": "code",
   "execution_count": null,
   "metadata": {},
   "outputs": [],
   "source": [
    "import numpy as np\n",
    "\n",
    "a = np.arange(10,30).reshape(4,5)\n",
    "\n",
    "yellow = a[0,0]\n",
    "red = a[0,1:-1]\n",
    "light_blue = a[:,1::2]\n",
    "green = a[:-1,2]\n",
    "dark_blue = a[::2,-1]\n",
    "\n",
    "print(yellow)\n",
    "print(red)\n",
    "print(light_blue)\n",
    "print(green)\n",
    "print(dark_blue)"
   ]
  },
  {
   "cell_type": "markdown",
   "metadata": {},
   "source": [
    "### Class exercise: masking\n",
    "- For the dataset: `data = np.arange(1,101).reshape(10,10)`\n",
    "  - apply a mask that will return only the even numbers\n",
    "  - using `np.where()` return only numbers that ends with 6\n"
   ]
  },
  {
   "cell_type": "code",
   "execution_count": null,
   "metadata": {},
   "outputs": [],
   "source": [
    "data = np.arange(1,101).reshape(10,10)\n",
    "even_numbers = data[data % 2 == 0]\n",
    "print(even_numbers)\n",
    "\n",
    "ends_with_6 = np.where(data % 10 == 6)\n",
    "print(data[ends_with_6])"
   ]
  },
  {
   "cell_type": "markdown",
   "metadata": {},
   "source": [
    "## Exercise numpy and csv\n",
    "\n",
    "1. load the csv file: befkbhalderstatkode.csv into a numpy ndarray\n",
    "2. How many german children of 0 years were there in Copenhagen in 2015? german 5180\n",
    "3. create a function that can take any combination of the 4 parameters:AAR,BYDEL,ALDER,STATKODE and return population data\n",
    "4. create a new function like previous so that it can sum values for all ages if age is not provided to the function\n",
    "5. further add functionality to sum values if citizenship or area was not provided to function.\n",
    "6. create a new function that can also give average values for each year if year whas not provided.\n",
    "7. create a function, that given year and nationality can return which area had the most of these nationals by that year. Test it by finding out which area had the most Moroccan people in both 1992 and 2015\n",
    "8. Find the Area(s) where fewest foreingers lived in Copenhagen in 1992 and 2015 respectively\n",
    "9. Find out what age most French people have in 2015"
   ]
  },
  {
   "cell_type": "code",
   "execution_count": null,
   "metadata": {},
   "outputs": [],
   "source": [
    "#1\n",
    "filename = '../../data/befkbhalderstatkode.csv'\n",
    "data = np.genfromtxt(filename, delimiter=',', dtype=np.uint, skip_header=1)\n",
    "\n",
    "# 2\n",
    "mask = (data[:,3] == 5180) & (data[:,2] == 0) & (data[:,0] == 2015)\n",
    "print(\"2: \",np.sum(data[mask][:,4]))"
   ]
  },
  {
   "cell_type": "code",
   "execution_count": null,
   "metadata": {},
   "outputs": [],
   "source": [
    "#3\n",
    "def population_data(data,aar,bydel,alder,statskode):\n",
    "  mask = (data[:,0] == aar) & (data[:,1] == bydel) & (data[:,2] == alder) & (data[:,3] == statskode)\n",
    "  return data[mask]\n",
    "  \n",
    "print(population_data(data,2010,1,10,5100))"
   ]
  },
  {
   "cell_type": "code",
   "execution_count": 6,
   "metadata": {},
   "outputs": [
    {
     "name": "stdout",
     "output_type": "stream",
     "text": [
      "without age:  [[2010    1    0 5100  641]\n",
      " [2010    1    1 5100  547]\n",
      " [2010    1    2 5100  522]\n",
      " [2010    1    3 5100  448]\n",
      " [2010    1    4 5100  401]\n",
      " [2010    1    5 5100  427]\n",
      " [2010    1    6 5100  378]\n",
      " [2010    1    7 5100  357]\n",
      " [2010    1    8 5100  339]\n",
      " [2010    1    9 5100  324]\n",
      " [2010    1   10 5100  333]\n",
      " [2010    1   11 5100  309]\n",
      " [2010    1   12 5100  277]\n",
      " [2010    1   13 5100  300]\n",
      " [2010    1   14 5100  304]\n",
      " [2010    1   15 5100  297]\n",
      " [2010    1   16 5100  313]\n",
      " [2010    1   17 5100  302]\n",
      " [2010    1   18 5100  283]\n",
      " [2010    1   19 5100  320]\n",
      " [2010    1   20 5100  551]\n",
      " [2010    1   21 5100  725]\n",
      " [2010    1   22 5100  790]\n",
      " [2010    1   23 5100  830]\n",
      " [2010    1   24 5100  834]\n",
      " [2010    1   25 5100  841]\n",
      " [2010    1   26 5100  802]\n",
      " [2010    1   27 5100  871]\n",
      " [2010    1   28 5100  845]\n",
      " [2010    1   29 5100  867]\n",
      " [2010    1   30 5100  844]\n",
      " [2010    1   31 5100  875]\n",
      " [2010    1   32 5100  729]\n",
      " [2010    1   33 5100  740]\n",
      " [2010    1   34 5100  816]\n",
      " [2010    1   35 5100  743]\n",
      " [2010    1   36 5100  776]\n",
      " [2010    1   37 5100  723]\n",
      " [2010    1   38 5100  662]\n",
      " [2010    1   39 5100  595]\n",
      " [2010    1   40 5100  585]\n",
      " [2010    1   41 5100  524]\n",
      " [2010    1   42 5100  604]\n",
      " [2010    1   43 5100  580]\n",
      " [2010    1   44 5100  578]\n",
      " [2010    1   45 5100  564]\n",
      " [2010    1   46 5100  510]\n",
      " [2010    1   47 5100  492]\n",
      " [2010    1   48 5100  426]\n",
      " [2010    1   49 5100  444]\n",
      " [2010    1   50 5100  404]\n",
      " [2010    1   51 5100  438]\n",
      " [2010    1   52 5100  457]\n",
      " [2010    1   53 5100  459]\n",
      " [2010    1   54 5100  461]\n",
      " [2010    1   55 5100  419]\n",
      " [2010    1   56 5100  501]\n",
      " [2010    1   57 5100  478]\n",
      " [2010    1   58 5100  478]\n",
      " [2010    1   59 5100  508]\n",
      " [2010    1   60 5100  527]\n",
      " [2010    1   61 5100  542]\n",
      " [2010    1   62 5100  611]\n",
      " [2010    1   63 5100  642]\n",
      " [2010    1   64 5100  559]\n",
      " [2010    1   65 5100  550]\n",
      " [2010    1   66 5100  543]\n",
      " [2010    1   67 5100  514]\n",
      " [2010    1   68 5100  355]\n",
      " [2010    1   69 5100  353]\n",
      " [2010    1   70 5100  343]\n",
      " [2010    1   71 5100  272]\n",
      " [2010    1   72 5100  244]\n",
      " [2010    1   73 5100  259]\n",
      " [2010    1   74 5100  224]\n",
      " [2010    1   75 5100  209]\n",
      " [2010    1   76 5100  174]\n",
      " [2010    1   77 5100  165]\n",
      " [2010    1   78 5100  158]\n",
      " [2010    1   79 5100  124]\n",
      " [2010    1   80 5100  127]\n",
      " [2010    1   81 5100  118]\n",
      " [2010    1   82 5100  104]\n",
      " [2010    1   83 5100  107]\n",
      " [2010    1   84 5100   88]\n",
      " [2010    1   85 5100  103]\n",
      " [2010    1   86 5100   82]\n",
      " [2010    1   87 5100   57]\n",
      " [2010    1   88 5100   88]\n",
      " [2010    1   89 5100   61]\n",
      " [2010    1   90 5100   56]\n",
      " [2010    1   91 5100   37]\n",
      " [2010    1   92 5100   42]\n",
      " [2010    1   93 5100   31]\n",
      " [2010    1   94 5100   25]\n",
      " [2010    1   95 5100   17]\n",
      " [2010    1   96 5100   16]\n",
      " [2010    1   97 5100    9]\n",
      " [2010    1   98 5100    6]\n",
      " [2010    1   99 5100    4]\n",
      " [2010    1  100 5100    2]\n",
      " [2010    1  101 5100    2]]\n",
      "with age:  [[2010    1   10 5100  333]]\n"
     ]
    }
   ],
   "source": [
    "#4\n",
    "def population_data_with_sum(data,aar,bydel,statskode,alder=False):\n",
    "  if alder:\n",
    "    mask = (data[:,0] == aar) & (data[:,1] == bydel) & (data[:,2] == alder) & (data[:,3] == statskode)\n",
    "  else:\n",
    "    mask = (data[:,0] == aar) & (data[:,1] == bydel) & (data[:,3] == statskode)\n",
    "  return data[mask]\n",
    "\n",
    "print(\"without age: \",population_data_with_sum(data,2010,1,5100))\n",
    "print(\"with age: \",population_data_with_sum(data,2010,1,5100,10))"
   ]
  },
  {
   "cell_type": "code",
   "execution_count": 26,
   "metadata": {},
   "outputs": [
    {
     "name": "stdout",
     "output_type": "stream",
     "text": [
      "[[2010   10    0 5100  942]\n",
      " [2010   10    0 5106    9]\n",
      " [2010   10    0 5110    4]\n",
      " ...\n",
      " [2010   10  102 5100    1]\n",
      " [2010   10  103 5100    1]\n",
      " [2010   10  104 5100    1]]\n",
      "[[2010   10    0 5110    4]\n",
      " [2010   10    1 5110    3]\n",
      " [2010   10    2 5110    2]\n",
      " [2010   10    3 5110    2]\n",
      " [2010   10    4 5110    2]\n",
      " [2010   10    6 5110    2]\n",
      " [2010   10    7 5110    1]\n",
      " [2010   10    8 5110    1]\n",
      " [2010   10    9 5110    2]\n",
      " [2010   10   10 5110    3]\n",
      " [2010   10   11 5110    2]\n",
      " [2010   10   12 5110    1]\n",
      " [2010   10   13 5110    3]\n",
      " [2010   10   14 5110    2]\n",
      " [2010   10   15 5110    1]\n",
      " [2010   10   16 5110    3]\n",
      " [2010   10   17 5110    3]\n",
      " [2010   10   19 5110    4]\n",
      " [2010   10   20 5110   10]\n",
      " [2010   10   21 5110   15]\n",
      " [2010   10   22 5110   20]\n",
      " [2010   10   23 5110   13]\n",
      " [2010   10   24 5110   19]\n",
      " [2010   10   25 5110   15]\n",
      " [2010   10   26 5110   14]\n",
      " [2010   10   27 5110   11]\n",
      " [2010   10   28 5110   15]\n",
      " [2010   10   29 5110   17]\n",
      " [2010   10   30 5110   13]\n",
      " [2010   10   31 5110   10]\n",
      " [2010   10   32 5110   11]\n",
      " [2010   10   33 5110   11]\n",
      " [2010   10   34 5110   17]\n",
      " [2010   10   35 5110   12]\n",
      " [2010   10   36 5110    3]\n",
      " [2010   10   37 5110    3]\n",
      " [2010   10   38 5110    6]\n",
      " [2010   10   39 5110    1]\n",
      " [2010   10   40 5110    4]\n",
      " [2010   10   41 5110    6]\n",
      " [2010   10   42 5110    7]\n",
      " [2010   10   43 5110    3]\n",
      " [2010   10   44 5110    2]\n",
      " [2010   10   45 5110    3]\n",
      " [2010   10   46 5110    5]\n",
      " [2010   10   47 5110    5]\n",
      " [2010   10   48 5110    3]\n",
      " [2010   10   49 5110    4]\n",
      " [2010   10   50 5110    4]\n",
      " [2010   10   51 5110    2]\n",
      " [2010   10   52 5110    2]\n",
      " [2010   10   53 5110    6]\n",
      " [2010   10   54 5110    6]\n",
      " [2010   10   55 5110    3]\n",
      " [2010   10   56 5110    2]\n",
      " [2010   10   57 5110    1]\n",
      " [2010   10   58 5110    4]\n",
      " [2010   10   59 5110    3]\n",
      " [2010   10   60 5110    5]\n",
      " [2010   10   61 5110    1]\n",
      " [2010   10   62 5110    3]\n",
      " [2010   10   63 5110    3]\n",
      " [2010   10   64 5110    3]\n",
      " [2010   10   65 5110    4]\n",
      " [2010   10   66 5110    2]\n",
      " [2010   10   67 5110    1]\n",
      " [2010   10   68 5110    1]\n",
      " [2010   10   69 5110    2]\n",
      " [2010   10   70 5110    2]\n",
      " [2010   10   72 5110    2]\n",
      " [2010   10   73 5110    1]\n",
      " [2010   10   74 5110    4]\n",
      " [2010   10   77 5110    1]\n",
      " [2010   10   78 5110    1]\n",
      " [2010   10   79 5110    1]\n",
      " [2010   10   81 5110    1]\n",
      " [2010   10   82 5110    1]\n",
      " [2010   10   83 5110    1]\n",
      " [2010   10   84 5110    2]]\n"
     ]
    }
   ],
   "source": [
    "#5\n",
    "data = np.genfromtxt(filename, delimiter=',', dtype=np.uint, skip_header=1)\n",
    "\n",
    "def population_data_expanded(data,aar,bydel=False,statskode=False,alder=False):\n",
    "  result = data[(data[:,0] == aar)]\n",
    "  if bydel:\n",
    "    result = result[(result[:,1] == bydel)]\n",
    "  if statskode:\n",
    "    result = result[(result[:,3] == statskode)]\n",
    "  if alder:\n",
    "    result = result[(result[:,2] == alder)]\n",
    "  return result\n",
    "\n",
    "print(population_data_expanded(data,2010,10))\n",
    "print(population_data_expanded(data,2010,10,5110))"
   ]
  },
  {
   "cell_type": "markdown",
   "metadata": {},
   "source": [
    "# Week 4 Exercise with Numpy\n",
    "\n",
    "Use only numpy (not pandas) in these exercises\n",
    "#### Exercise 1\n",
    "1. Open the file './data/befkbhalderstatkode.csv'\n",
    "2. Turn the csv file into a numpy ndarray with `np.genfromtxt(filename, delimiter=',', dtype=np.uint, skip_header=1)`\n",
    "3. Using this data:\n",
    "```python\n",
    "neighb = {1: 'Indre By', 2: 'Østerbro', 3: 'Nørrebro', 4: 'Vesterbro/Kgs. Enghave', \n",
    "          5: 'Valby', 6: 'Vanløse', 7: 'Brønshøj-Husum', 8: 'Bispebjerg', 9: 'Amager Øst', \n",
    "          10: 'Amager Vest', 99: 'Udenfor'}\n",
    "```\n",
    "\n",
    "Find out how many people lived in each of the 11 areas in 2015\n",
    "\n",
    "\n",
    "4. Make a bar plot to show the size of each city area from the smallest to the largest in 2015"
   ]
  },
  {
   "cell_type": "code",
   "execution_count": 81,
   "metadata": {},
   "outputs": [
    {
     "data": {
      "text/plain": [
       "([0, 1, 2, 3, 4, 5, 6, 7, 8, 9, 10],\n",
       " <a list of 11 Text major ticklabel objects>)"
      ]
     },
     "execution_count": 81,
     "metadata": {},
     "output_type": "execute_result"
    },
    {
     "data": {
      "image/png": "[encoded data removed]",
      "text/plain": [
       "<Figure size 432x288 with 1 Axes>"
      ]
     },
     "metadata": {
      "needs_background": "light"
     },
     "output_type": "display_data"
    }
   ],
   "source": [
    "import numpy as np\n",
    "import matplotlib.pyplot as plt\n",
    "filename = '../../data/befkbhalderstatkode.csv'\n",
    "raw = np.genfromtxt(filename, delimiter=',', dtype=np.uint, skip_header=1)\n",
    "\n",
    "neighb = {1: 'Indre By', 2: 'Østerbro', 3: 'Nørrebro', 4: 'Vesterbro/Kgs. Enghave', \n",
    "          5: 'Valby', 6: 'Vanløse', 7: 'Brønshøj-Husum', 8: 'Bispebjerg', 9: 'Amager Øst', \n",
    "          10: 'Amager Vest', 99: 'Udenfor'}\n",
    "\n",
    "def get_pop(data,aar,statskode):\n",
    "  return np.sum(data[(data[:,0] == aar) & (data[:,1] == statskode)][:,4])\n",
    "\n",
    "pop = {}\n",
    "\n",
    "for i in neighb:\n",
    "  pop[neighb[i]] = get_pop(raw,2015,i)\n",
    "\n",
    "sorted_pop = {k: v for k, v in sorted(pop.items(), key=lambda item: item[1])}\n",
    "\n",
    "plt.bar(sorted_pop.keys(), sorted_pop.values(), width=0.5, align='center')\n",
    "plt.xticks(rotation=45, horizontalalignment='right',fontweight='light')"
   ]
  },
  {
   "cell_type": "markdown",
   "metadata": {},
   "source": [
    "5. Create a boolean mask to find out how many people above 65 years lived in Copenhagen in 2015"
   ]
  },
  {
   "cell_type": "code",
   "execution_count": 20,
   "metadata": {},
   "outputs": [
    {
     "name": "stdout",
     "output_type": "stream",
     "text": [
      "55750\n"
     ]
    }
   ],
   "source": [
    "pop_over_65 = np.sum(raw[(raw[:,2] > 65) & (raw[:,0] == 2015)][:,4])\n",
    "print(pop_over_65)"
   ]
  },
  {
   "cell_type": "markdown",
   "metadata": {},
   "source": [
    "6. How many of those were from the other nordic countries (not dk). Hint: see notebook: \"04 Numpy\""
   ]
  },
  {
   "cell_type": "code",
   "execution_count": 23,
   "metadata": {},
   "outputs": [
    {
     "name": "stdout",
     "output_type": "stream",
     "text": [
      "3451\n"
     ]
    }
   ],
   "source": [
    "pop_over_65_not_nordic = np.sum(raw[(raw[:,2] > 65) & (raw[:,0] == 2015) & (raw[:,3] != 5100)][:,4])\n",
    "print(pop_over_65_not_nordic)"
   ]
  },
  {
   "cell_type": "markdown",
   "metadata": {},
   "source": [
    "7. Make a line plot showing the changes of number of people in vesterbro and østerbro from 1992 to 2015"
   ]
  },
  {
   "cell_type": "code",
   "execution_count": 111,
   "metadata": {},
   "outputs": [
    {
     "data": {
      "text/plain": [
       "<matplotlib.legend.Legend at 0x7f331872e090>"
      ]
     },
     "execution_count": 111,
     "metadata": {},
     "output_type": "execute_result"
    },
    {
     "data": {
      "image/png": "[encoded data removed]",
      "text/plain": [
       "<Figure size 432x288 with 1 Axes>"
      ]
     },
     "metadata": {
      "needs_background": "light"
     },
     "output_type": "display_data"
    }
   ],
   "source": [
    "vesterbro = {}\n",
    "østerbro = {}\n",
    "for i in range(1992,2016):\n",
    "  vesterbro[i] = get_pop(raw,i,4)\n",
    "\n",
    "for i in range(1992,2016):\n",
    "  østerbro[i] = get_pop(raw,i,2)\n",
    "\n",
    "x_line = []\n",
    "for i in vesterbro.keys():\n",
    "  x_line.append(str(i))\n",
    "\n",
    "\n",
    "plt.plot(x_line,list(vesterbro.values()), label='vesterbro')\n",
    "plt.plot(x_line,list(østerbro.values()),label='østerbro')\n",
    "plt.xticks(rotation=60, horizontalalignment='right',fontweight='light')\n",
    "plt.legend(title='Changes in pop')"
   ]
  },
  {
   "cell_type": "markdown",
   "metadata": {},
   "source": [
    "#### Exercise 2  A bit harder (Extra only if you have the time)\n",
    "\n",
    "1. From \"Danmarks Statistik\" download demographic data here:\n",
    "https://api.statbank.dk/v1/data/FOLK1A/CSV?valuePresentation=Code&delimiter=Semicolon&OMR%C3%85DE=000%2C084%2C147%2C400%2C085%2C083%2C082%2C081%2C851%2C461%2C561%2C751&K%C3%98N=1%2C2&ALDER=0%2C1%2C2%2C3%2C4%2C5%2C6%2C7%2C8%2C9%2C10%2C11%2C12%2C13%2C14%2C15%2C16%2C17%2C18%2C19%2C20%2C21%2C22%2C23%2C24%2C25%2C26%2C27%2C28%2C29%2C30%2C31%2C32%2C33%2C34%2C35%2C36%2C37%2C3%2C39%2C40%2C41%2C42%2C43%2C44%2C45%2C46%2C47%2C48%2C49%2C50%2C51%2C52%2C53%2C54%2C55%2C56%2C57%2C58%2C59%2C60%2C61%2C62%2C63%2C64%2C65%2C66%2C67%2C68%2C69%2C70%2C71%2C72%2C73%2C74%2C75%2C76%2C77%2C78%2C79%2C80%2C81%2C82%2C83%2C84%2C85%2C86%2C87%2C88%2C89%2C90%2C91%2C92%2C93%2C94%2C95%2C96%2C97%2C98%2C99%2C100&Tid=2008K1%2C2009K1%2C2010K1%2C2011K1%2C2012K1%2C2013K1%2C2014K1%2C2015K1%2C2016K1%2C2017K1%2C2018K1%2C2019K1%2C2020K1\n",
    "\n",
    "\n",
    "2. clean up the data so it only contains numbers. (If you find this hard to do then Pandas can help (we will cover it next week)\n",
    "```python\n",
    "import pandas as pd \n",
    "url = 'url from above here'\n",
    "df = pd.read_csv(url,sep=';')\n",
    "df['TID'] = df['TID'].map(lambda x:x[:-2]) #cut the last 2 characters\n",
    "df.to_csv('demografic_cleaned.csv',header=False, index=False)\n",
    "```\n",
    "Now you have csv data with columns: OMRÅDE;KØN;ALDER;TID;INDHOLD\n",
    "\n",
    "3. Now load your demographic data with numpy. (Hint: use np.loadtxt() with dtype and delimiter).\n",
    "4. Use file: DKstat_bykoder.csv to get cities from the city codes\n",
    "5. Now find out which city in 2020 has the highest percentage of men (gender code 1),(Hint: create a function to return summed up data by city code ala: def summed_by_city(city_code): returning pct_male "
   ]
  },
  {
   "cell_type": "code",
   "execution_count": 103,
   "metadata": {},
   "outputs": [
    {
     "name": "stdout",
     "output_type": "stream",
     "text": [
      "#5 Region-Hovedstaden 1110210 beboere\n"
     ]
    }
   ],
   "source": [
    "import pandas as pd\n",
    "filename = 'demografic_cleaned.csv'\n",
    "raw_demografic = np.genfromtxt(filename, delimiter=',', dtype=np.uint)\n",
    "filename = '../../data/DKstat_bykoder.csv'\n",
    "raw_bykoder = pd.read_csv(filename, delimiter=',',encoding=\"latin1\", squeeze=True)\n",
    "\n",
    "def summed_by_city(data,city_code,year):\n",
    "  return np.sum(data[(data[:,3] == year) & (data[:,1] == 1) & (data[:,0] == city_code) & (data[:,0] != 0)])\n",
    "\n",
    "highest_pop = {}\n",
    "for i in raw_bykoder['BYKODE']:\n",
    "  if summed_by_city(raw_demografic,i,2020) > 0:\n",
    "    highest_pop[i] = summed_by_city(raw_demografic,i,2020)\n",
    "\n",
    "sorted_highest_pop = {k: v for k, v in sorted(highest_pop.items(), key=lambda item: item[1], reverse=True)}\n",
    "print('#5','Region-Hovedstaden',list(sorted_highest_pop.values())[0],'beboere')"
   ]
  },
  {
   "cell_type": "markdown",
   "metadata": {},
   "source": [
    "6. Create a line chart with 5 lines showing population changes in the 5 largest cities from 2008 to 2020"
   ]
  }
 ],
 "metadata": {
  "interpreter": {
   "hash": "d4d1e4263499bec80672ea0156c357c1ee493ec2b1c70f0acce89fc37c4a6abe"
  },
  "kernelspec": {
   "display_name": "Python 3.7.6 ('base')",
   "language": "python",
   "name": "python3"
  },
  "language_info": {
   "codemirror_mode": {
    "name": "ipython",
    "version": 3
   },
   "file_extension": ".py",
   "mimetype": "text/x-python",
   "name": "python",
   "nbconvert_exporter": "python",
   "pygments_lexer": "ipython3",
   "version": "3.7.6"
  },
  "orig_nbformat": 4
 },
 "nbformat": 4,
 "nbformat_minor": 2
}
