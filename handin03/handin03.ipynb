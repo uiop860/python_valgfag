{
 "cells": [
  {
   "cell_type": "markdown",
   "metadata": {},
   "source": [
    "(dette er skrevet i markdown)\n",
    "\n",
    "## Cifar datasæt\n",
    "\n",
    "Dette er et datasæt af 50.000 32x32 farvede trænings billeder og 10.000 test billeder, opdelt i 10 kategorier.\n",
    "\n",
    "Datasættet kan hentes med koden nedenunder\n",
    "```python\n",
    "import tensorflow as tf\n",
    "import matplotlib.pyplot as plt\n",
    "\n",
    "(x_train,y_train),(x_test,y_test) = tf.keras.datasets.cifar10.load_data()\n",
    "\n",
    "x_train = tf.keras.utils.normalize(x_train,axis=1)\n",
    "y_train = tf.keras.utils.normalize(y_train,axis=1)\n",
    "x_test = tf.keras.utils.normalize(x_test,axis=1)\n",
    "y_test = tf.keras.utils.normalize(y_test,axis=1)\n",
    "\n",
    "plt.imshow(x_train[0])\n",
    "plt.show()\n",
    "```\n",
    "\n",
    "Prøv ved hjælp af dette startkode at opbyg et neuralt netværk der kan gennemskue kategorierne i test dataen.\n",
    "\n",
    "```python\n",
    "from keras import models\n",
    "from keras import layers\n",
    "from keras import optimizers\n",
    "\n",
    "model = model.Sequential()\n",
    "```"
   ]
  },
  {
   "cell_type": "code",
   "execution_count": 95,
   "metadata": {},
   "outputs": [],
   "source": [
    "import tensorflow as tf\n",
    "import matplotlib.pyplot as plt\n",
    "import numpy as np\n",
    "\n",
    "(train_images,train_labels),(test_images,test_labels) = tf.keras.datasets.cifar10.load_data()\n",
    "\n",
    "class_names = ['airplane', 'automobile', 'bird', 'cat', 'deer',\n",
    "               'dog', 'frog', 'horse', 'ship', 'truck']\n",
    "\n",
    "train_images = train_images.reshape(train_images.shape[0],32,32,3)\n",
    "train_images = train_images.astype('float32')\n",
    "train_images /= 255\n",
    "\n",
    "test_images = test_images.reshape(test_images.shape[0],32,32,3)\n",
    "test_images = test_images.astype('float32')\n",
    "test_images /= 255\n",
    "\n",
    "\n",
    "train_labels = tf.keras.utils.to_categorical(train_labels, 10)\n",
    "test_labels = tf.keras.utils.to_categorical(test_labels, 10)"
   ]
  },
  {
   "cell_type": "code",
   "execution_count": 96,
   "metadata": {},
   "outputs": [
    {
     "name": "stdout",
     "output_type": "stream",
     "text": [
      "Epoch 1/5\n",
      "704/704 [==============================] - 18s 24ms/step - loss: 1.6816 - accuracy: 0.3874 - val_loss: 1.7625 - val_accuracy: 0.3874\n",
      "Epoch 2/5\n",
      "704/704 [==============================] - 16s 22ms/step - loss: 1.2956 - accuracy: 0.5401 - val_loss: 1.3041 - val_accuracy: 0.5342\n",
      "Epoch 3/5\n",
      "704/704 [==============================] - 15s 21ms/step - loss: 1.1082 - accuracy: 0.6114 - val_loss: 1.2936 - val_accuracy: 0.5526\n",
      "Epoch 4/5\n",
      "704/704 [==============================] - 15s 22ms/step - loss: 0.9905 - accuracy: 0.6504 - val_loss: 1.1695 - val_accuracy: 0.5950\n",
      "Epoch 5/5\n",
      "704/704 [==============================] - 16s 23ms/step - loss: 0.9042 - accuracy: 0.6840 - val_loss: 1.0614 - val_accuracy: 0.6256\n"
     ]
    }
   ],
   "source": [
    "from keras import models\n",
    "from keras import layers\n",
    "\n",
    "# tensorflow model for traning on 32x32 color images\n",
    "model = models.Sequential()\n",
    "model.add(layers.Conv2D(32,(3,3),activation='relu',input_shape=(32,32,3)))\n",
    "model.add(layers.MaxPooling2D((2,2)))\n",
    "model.add(layers.Conv2D(64,(3,3),activation='relu'))\n",
    "model.add(layers.MaxPooling2D((2,2)))\n",
    "model.add(layers.Conv2D(64,(3,3),activation='relu'))\n",
    "model.add(layers.Flatten())\n",
    "model.add(layers.Dense(64,activation='relu'))\n",
    "model.add(layers.Dense(10, activation='softmax'))\n",
    "\n",
    "model.compile(loss='categorical_crossentropy', optimizer='rmsprop', metrics=['accuracy'])\n",
    "\n",
    "history = model.fit(train_images,\n",
    "                    train_labels,\n",
    "                    epochs=5,\n",
    "                    verbose=True,\n",
    "                    batch_size=64,\n",
    "                    validation_split=0.1,\n",
    "                    )\n"
   ]
  },
  {
   "cell_type": "code",
   "execution_count": 97,
   "metadata": {},
   "outputs": [
    {
     "name": "stdout",
     "output_type": "stream",
     "text": [
      "313/313 [==============================] - 1s 4ms/step - loss: 1.0920 - accuracy: 0.6163\n",
      "[1.0920125246047974, 0.6162999868392944]\n"
     ]
    },
    {
     "data": {
      "image/png": "[encoded data removed]",
      "text/plain": [
       "<Figure size 432x288 with 1 Axes>"
      ]
     },
     "metadata": {
      "needs_background": "light"
     },
     "output_type": "display_data"
    }
   ],
   "source": [
    "plt.plot(history.history['accuracy'], label='accuracy')\n",
    "plt.plot(history.history['val_accuracy'], label = 'val_accuracy')\n",
    "plt.xlabel('Epoch')\n",
    "plt.ylabel('Accuracy')\n",
    "plt.ylim([0.5, 1])\n",
    "plt.legend(loc='upper right')\n",
    "\n",
    "results = model.evaluate(test_images,  test_labels)\n",
    "print(results)"
   ]
  },
  {
   "cell_type": "code",
   "execution_count": 102,
   "metadata": {},
   "outputs": [
    {
     "name": "stdout",
     "output_type": "stream",
     "text": [
      "313/313 [==============================] - 1s 4ms/step - loss: 1.0920 - accuracy: 0.6163\n",
      "[1.0920125246047974, 0.6162999868392944]\n",
      "\n",
      "# Generate predictions for 20 samples\n",
      "0  correct  =  cat\n",
      "1  correct  =  ship\n",
      "2  wrong    =  ship\n",
      "3  correct  =  airplane\n",
      "4  wrong    =  frog\n",
      "5  correct  =  frog\n",
      "6  correct  =  automobile\n",
      "7  correct  =  frog\n",
      "8  wrong    =  cat\n",
      "9  correct  =  automobile\n",
      "10  wrong    =  airplane\n",
      "11  correct  =  truck\n",
      "12  wrong    =  dog\n",
      "13  correct  =  horse\n",
      "14  correct  =  truck\n",
      "15  wrong    =  ship\n",
      "16  correct  =  dog\n",
      "17  wrong    =  horse\n",
      "18  correct  =  ship\n",
      "19  correct  =  frog\n"
     ]
    }
   ],
   "source": [
    "results = model.evaluate(test_images,test_labels)\n",
    "print(results)\n",
    "# find lowest value in list\n",
    "\n",
    "\n",
    "# Generate predictions (probabilities -- the output of the last layer)\n",
    "# on new data using `predict`\n",
    "samples = 20\n",
    "print(f'\\n# Generate predictions for {samples} samples')\n",
    "predictions = model.predict(test_images[:samples])\n",
    "for idx ,i in enumerate(predictions):\n",
    "  if(test_labels[idx][np.argmax(i)] == 1):\n",
    "    print(idx ,\" correct  = \" , class_names[np.argmax(i)])\n",
    "  else:\n",
    "    for id, i in enumerate(test_labels[idx]):\n",
    "      if(i == 1):\n",
    "        print(idx ,\" wrong    = \" , class_names[id])\n",
    "\n",
    "\n",
    "# 313/313 [==============================] - 1s 4ms/step - loss: 0.9913 - accuracy: 0.6810\n",
    "# [0.9912773370742798, 0.6809999942779541]\n",
    "# 313/313 [==============================] - 1s 4ms/step - loss: 1.0620 - accuracy: 0.6310\n",
    "# [1.0619815587997437, 0.6309999823570251]\n",
    "# 313/313 [==============================] - 1s 4ms/step - loss: 1.0248 - accuracy: 0.6483\n",
    "# [1.0247641801834106, 0.6482999920845032]"
   ]
  }
 ],
 "metadata": {
  "interpreter": {
   "hash": "d4d1e4263499bec80672ea0156c357c1ee493ec2b1c70f0acce89fc37c4a6abe"
  },
  "kernelspec": {
   "display_name": "Python 3.7.6 ('base')",
   "language": "python",
   "name": "python3"
  },
  "language_info": {
   "codemirror_mode": {
    "name": "ipython",
    "version": 3
   },
   "file_extension": ".py",
   "mimetype": "text/x-python",
   "name": "python",
   "nbconvert_exporter": "python",
   "pygments_lexer": "ipython3",
   "version": "3.7.6"
  },
  "orig_nbformat": 4
 },
 "nbformat": 4,
 "nbformat_minor": 2
}
