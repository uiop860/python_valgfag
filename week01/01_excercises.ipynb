{
 "cells": [
  {
   "cell_type": "markdown",
   "metadata": {},
   "source": [
    "### Day 1 class excercise"
   ]
  },
  {
   "cell_type": "code",
   "execution_count": 1,
   "metadata": {},
   "outputs": [
    {
     "name": "stdout",
     "output_type": "stream",
     "text": [
      "1:  [1, 3, 5, 7, 9, 11, 13, 15, 17, 19]\n",
      "2:\n",
      "max:  1000000\n",
      "min:  2\n",
      "sum:  250000500000\n",
      "3:  [3, 6, 9, 12, 15, 18, 21, 24, 27, 30, 33, 36, 39, 42, 45, 48, 51, 54, 57, 60, 63, 66, 69, 72, 75, 78, 81, 84, 87, 90, 93, 96, 99, 102, 105, 108, 111, 114, 117, 120, 123, 126, 129, 132, 135, 138, 141, 144, 147, 150, 153, 156, 159, 162, 165, 168, 171, 174, 177, 180, 183, 186, 189, 192, 195, 198, 201, 204, 207, 210, 213, 216, 219, 222, 225, 228, 231, 234, 237, 240, 243, 246, 249, 252, 255, 258, 261, 264, 267, 270, 273, 276, 279, 282, 285, 288, 291, 294, 297, 300]\n",
      "4:  [1, 8, 27, 64, 125, 216, 343, 512, 729, 1000]\n"
     ]
    }
   ],
   "source": [
    "#1\n",
    "var = [i for i in range(20) if i%2 != 0]\n",
    "print(\"1: \", var)\n",
    "#2\n",
    "var = range(2,1000002,2)\n",
    "print(\"2:\")\n",
    "print(\"max: \", max(var))\n",
    "print(\"min: \", min(var))\n",
    "print(\"sum: \", sum(var))\n",
    "#3\n",
    "var = [i for i in range(3,301) if i%3 == 0]\n",
    "print(\"3: \", var)\n",
    "#4\n",
    "var = [i**3 for i in range(1,11)]\n",
    "print(\"4: \", var)"
   ]
  },
  {
   "cell_type": "markdown",
   "metadata": {},
   "source": [
    "1. Create 5 list comprehensions to solve the following 5 problems:\n",
    "    1. Iterate a list of names to return a list of the names starting with H\n",
    "    2. In one line create a list of the numbers 1-100 to the power of 3\n",
    "    3. Iterate a list of names to create a list of tuples where the tuples first value is the length of the name and the second is the name\n",
    "    4. Iterate over each character in a string and get only those that are nummeric\n",
    "    5. Using only a list comprehension wrapped in set() get all possible combination from throwing 2 dice (hint use 2 for loops in a single list comprehension)\n",
    "\n",
    "2. Create 2 dictionary comprehensions to solve the following:\n",
    "    1. Iterate a list of names and create a dictionary where key is the name and value is the length of the name\n",
    "    2. Iterate a list of numbers and create a dictionary with {key:value} being {number:squareroot_of_number}\n",
    "\n",
    "3. Extra assignment (This one goes beyond what is covered in the course notebooks. So only do it if you want an extra challenge).\n",
    "    1. Progammatically using loops create a small program to produce a dictionary with all the 2 dice throw combinations as keys (eg: 2,3,4...etc) and their likelyhood in percent as values"
   ]
  },
  {
   "cell_type": "code",
   "execution_count": 9,
   "metadata": {},
   "outputs": [
    {
     "name": "stdout",
     "output_type": "stream",
     "text": [
      "1.1:  ['Hans', 'Hanne', 'henrik']\n",
      "1.2:  [1, 8, 27, 64, 125, 216, 343, 512, 729, 1000, 1331, 1728, 2197, 2744, 3375, 4096, 4913, 5832, 6859, 8000, 9261, 10648, 12167, 13824, 15625, 17576, 19683, 21952, 24389, 27000, 29791, 32768, 35937, 39304, 42875, 46656, 50653, 54872, 59319, 64000, 68921, 74088, 79507, 85184, 91125, 97336, 103823, 110592, 117649, 125000, 132651, 140608, 148877, 157464, 166375, 175616, 185193, 195112, 205379, 216000, 226981, 238328, 250047, 262144, 274625, 287496, 300763, 314432, 328509, 343000, 357911, 373248, 389017, 405224, 421875, 438976, 456533, 474552, 493039, 512000, 531441, 551368, 571787, 592704, 614125, 636056, 658503, 681472, 704969, 729000, 753571, 778688, 804357, 830584, 857375, 884736, 912673, 941192, 970299, 1000000]\n",
      "1.3:  [(4, 'Hans'), (4, 'Lars'), (5, 'Hanne'), (5, 'Brian'), (6, 'henrik')]\n",
      "1.4:  [3, 3, 0, 3]\n",
      "1.5:  {2, 3, 4, 5, 6, 7, 8, 9, 10, 11, 12}\n",
      "2.1:  {'Hans': 4, 'Lars': 4, 'Hanne': 5, 'Brian': 5, 'henrik': 6}\n",
      "2.2:  {0: 0.0, 1: 1.0, 2: 1.41, 3: 1.73, 4: 2.0, 5: 2.24, 6: 2.45, 7: 2.65, 8: 2.83, 9: 3.0, 10: 3.16}\n",
      "3.1:  {2: 2.78, 3: 5.56, 4: 8.33, 5: 11.11, 6: 13.89, 7: 16.67, 8: 13.89, 9: 11.11, 10: 8.33, 11: 5.56, 12: 2.78}\n"
     ]
    }
   ],
   "source": [
    "import math\n",
    "# 1.1\n",
    "names = [\"Hans\", \"Lars\", \"Hanne\", \"Brian\", \"henrik\"]\n",
    "names_with_h = [i for i in names if i[0] == \"H\" or i[0] == \"h\"]\n",
    "print(\"1.1: \",names_with_h)\n",
    "#1.2\n",
    "numbers = [i**3 for i in range(1,101)]\n",
    "print(\"1.2: \",numbers)\n",
    "#1.3\n",
    "names_with_length = [(len(i),i) for i in names]\n",
    "print(\"1.3: \",names_with_length)\n",
    "#1.4\n",
    "word_with_numbers = \"l33tc0d3\"\n",
    "numbers_from_word = [int(i) for i in word_with_numbers if i.isdigit()]\n",
    "print(\"1.4: \",numbers_from_word)\n",
    "#1.5\n",
    "dice_throws = set([i+f for i in range(1,7) for f in range(1,7)])\n",
    "print(\"1.5: \", dice_throws)\n",
    "#2.1\n",
    "dictionary = {i:len(i) for i in names}\n",
    "print(\"2.1: \",dictionary)\n",
    "#2.2\n",
    "number_dic = {i:round(math.sqrt(i),2) for i in range(11)}\n",
    "print(\"2.2: \",number_dic)\n",
    "#3.1\n",
    "every_dice_throw = [i+f for i in range(1,7) for f in range(1,7)]\n",
    "dice_dic = {}\n",
    "for i in set(every_dice_throw):\n",
    "  dice_dic[i] = round((every_dice_throw.count(i)/len(every_dice_throw))*100,2)\n",
    "print(\"3.1: \",dice_dic)"
   ]
  }
 ],
 "metadata": {
  "interpreter": {
   "hash": "d4d1e4263499bec80672ea0156c357c1ee493ec2b1c70f0acce89fc37c4a6abe"
  },
  "kernelspec": {
   "display_name": "Python 3.7.6 64-bit ('base': conda)",
   "language": "python",
   "name": "python3"
  },
  "language_info": {
   "codemirror_mode": {
    "name": "ipython",
    "version": 3
   },
   "file_extension": ".py",
   "mimetype": "text/x-python",
   "name": "python",
   "nbconvert_exporter": "python",
   "pygments_lexer": "ipython3",
   "version": "3.7.6"
  },
  "orig_nbformat": 4
 },
 "nbformat": 4,
 "nbformat_minor": 2
}
