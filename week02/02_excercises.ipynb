{
 "cells": [
  {
   "cell_type": "markdown",
   "metadata": {},
   "source": [
    "# Exercises loops\n",
    "\n",
    "  1. Write a program that creates gramatically valid English sentences.\n",
    "    * Here, we consider a sentence to be gramatically correct when it follows the simple English grammar of the form: `Article Adjective Noun Verb.` That is, even the sentence `A insect fly.` is, for the moment, considered correct. Use the files inside the data folder: nouns, verbs and adjectives. HINT: read them at put content into 3 lists.\n",
    "  2. Extend the above program to generate all possible sentences with the given words."
   ]
  },
  {
   "cell_type": "code",
   "execution_count": 5,
   "metadata": {},
   "outputs": [
    {
     "name": "stdout",
     "output_type": "stream",
     "text": [
      "['be', 'have', 'do', 'say', 'go', 'can', 'get', 'would', 'make', 'know', 'will', 'think', 'take', 'see', 'come', 'could', 'want', 'look', 'use', 'find', 'give', 'tell', 'work', 'may', 'should', 'call', 'try', 'ask', 'need', 'feel', 'become', 'leave', 'put', 'mean', 'keep', 'let', 'begin', 'seem', 'help', 'talk', 'turn', 'start', 'might', 'show', 'hear', 'play', 'run', 'move', 'like', 'live', 'believe', 'hold', 'bring', 'happen', 'must', 'write', 'provide', 'sit', 'stand', 'lose', 'pay', 'meet', 'include', 'continue', 'set', 'learn', 'change', 'lead', 'understand', 'watch', 'follow', 'stop', 'create', 'speak', 'read', 'allow', 'add', 'spend', 'grow', 'open', 'walk', 'win', 'offer', 'remember', 'love', 'consider', 'appear', 'buy', 'wait', 'serve', 'die', 'send', 'expect', 'build', 'stay', 'fall', 'cut', 'reach', 'kill', 'remain']\n"
     ]
    }
   ],
   "source": [
    "with open('../data/verbs') as verbs_file:\n",
    "  verbs = verbs_file.read().split('\\n')\n",
    "print(verbs)\n",
    "#lorte opgave\n"
   ]
  },
  {
   "cell_type": "markdown",
   "metadata": {},
   "source": [
    "## Exercise functions\n",
    "\n",
    "1. Write a function that iterates through a list and prints each value **without using a loop**.  \n",
    "That is, write a recursive function to print the values of a list."
   ]
  },
  {
   "cell_type": "code",
   "execution_count": 9,
   "metadata": {},
   "outputs": [
    {
     "name": "stdout",
     "output_type": "stream",
     "text": [
      "Hello\n",
      "there\n",
      "general\n",
      "kenobi\n",
      "1\n",
      "2\n",
      "3\n",
      "4\n",
      "None\n"
     ]
    }
   ],
   "source": [
    "#1\n",
    "my_list = [\"Hello\",\"there\",\"general\",\"kenobi\"]\n",
    "\n",
    "def recusion(list,index=0):\n",
    "  if index == len(list):\n",
    "    return\n",
    "  print(list[index])\n",
    "  index+=1\n",
    "  recusion(list,index)\n",
    "\n",
    "recusion(my_list)\n"
   ]
  },
  {
   "cell_type": "markdown",
   "metadata": {},
   "source": [
    "2. Write a function that can take any number of arguments and return all arguments concatenated or summed depending on the data type"
   ]
  },
  {
   "cell_type": "code",
   "execution_count": 33,
   "metadata": {},
   "outputs": [
    {
     "name": "stdout",
     "output_type": "stream",
     "text": [
      "6\n",
      "testhejfisk\n",
      "(6, 'test hej fisk ')\n",
      "(14, '')\n",
      "(0, 'fisk gemmer andrekager')\n",
      "test\n"
     ]
    }
   ],
   "source": [
    "#2 anden måde\n",
    "def any_arguments(*list):\n",
    "  result_int = 0\n",
    "  result_string = \"\"\n",
    "  for i in list:\n",
    "    if type(i) == int:\n",
    "      result_int += i\n",
    "    elif type(i) == str:\n",
    "      result_string += i\n",
    "  return result_int,result_string\n",
    "string,sum = any_arguments(\"test\",1,2,\"hej\",3,\"fisk\")\n",
    "print(string)\n",
    "print(sum)\n",
    "print(any_arguments(\"test \",1,2,\"hej \",3,\"fisk \"))\n",
    "print(any_arguments(2,3,1,5,3))\n",
    "print(any_arguments(\"fisk \",\"gemmer \", \"andre\", \"kager\"))\n",
    "print(\"test\")"
   ]
  },
  {
   "cell_type": "markdown",
   "metadata": {},
   "source": [
    "## Exercise\n",
    "\n",
    "Implement a small download program, using `https://hackernews.com` as a test URL:\n",
    "\n",
    "1. Create a cli program to take 2 arguments: url (required) and destination_file (optional)\n",
    "2. Create a description of what the program does\n",
    "3. Implement the download part\n",
    "    - If no destination file was specified, save the file in `default_file.dat`\n",
    "4. Improve the code: if no destination file was specified, use the last subset of the URL as the name for the file\n",
    "5. Improve the code: if no destination file was specified, use the MIME-type of the HTTP header to guess the file extension\n",
    "\n",
    "Excercise completions [download_program.py](./download_program.py)\n",
    "\n",
    "called with:\n",
    "\n",
    "$python -m my_notebooks.week02.download_program https://hackernews.com -d my_notebooks/week02/default_file.dat"
   ]
  },
  {
   "cell_type": "markdown",
   "metadata": {},
   "source": [
    "## Weekly exercise 02\n",
    "1. Create a python file with 3 functions:\n",
    "    1. `def print_file_content(file)` that can print content of a csv file to the console\n",
    "    2. `def write_list_to_file(output_file, lst)` that can take a list or tuple of strings and write each element to a new line in file\n",
    "        1. rewrite the function so that it gets an arbitrary number of strings instead of a list\n",
    "    3. `def read_csv(input_file)` that take a csv file and read each row into a list. Print the list.\n",
    "2. Add a functionality so that the file can be called from cli with 2 arguments:\n",
    "    1. path to csv file\n",
    "    2. an argument `--file file_name` that if given will write the content to file_name or otherwise will print it to the console.\n",
    "3. Add a --help cli argument to describe how the module is used  "
   ]
  },
  {
   "cell_type": "markdown",
   "metadata": {},
   "source": [
    "## Weekly exercise 2\n",
    "Create a module called utils.py with the following 5 functions:\n",
    "\n",
    "```python\n",
    "def get_file_names(folderpath,out=output.txt):\n",
    "    \"\"\" takes a path to a folder and writes all filenames in the folder to a specified output file\"\"\"\n",
    "\n",
    "def get_all_file_names(folderpath,out=output.txt):\n",
    "    \"\"\"takes a path to a folder and write all filenames recursively (files of all sub folders to)\"\"\"\n",
    "\n",
    "def print_line_one(file_names):\n",
    "    \"\"\"takes a list of filenames and print the first line of each\"\"\"\n",
    "\n",
    "def print_emails(file_names):\n",
    "    \"\"\"takes a list of filenames and print each line that contains an email (just look for @)\"\"\"\n",
    "\n",
    "def write_headlines(md_files, out=output.txt):\n",
    "    \"\"\"takes a list of md files and writes all headlines (lines starting with #) to a file\"\"\"\n",
    "\n",
    "```\n",
    "Make sure your module can be called both from cli and imported to another module\n",
    "Create a new module that imports utils.py and test each function."
   ]
  }
 ],
 "metadata": {
  "interpreter": {
   "hash": "d4d1e4263499bec80672ea0156c357c1ee493ec2b1c70f0acce89fc37c4a6abe"
  },
  "kernelspec": {
   "display_name": "Python 3.7.6 64-bit ('base': conda)",
   "language": "python",
   "name": "python3"
  },
  "language_info": {
   "codemirror_mode": {
    "name": "ipython",
    "version": 3
   },
   "file_extension": ".py",
   "mimetype": "text/x-python",
   "name": "python",
   "nbconvert_exporter": "python",
   "pygments_lexer": "ipython3",
   "version": "3.7.6"
  },
  "orig_nbformat": 4
 },
 "nbformat": 4,
 "nbformat_minor": 2
}
