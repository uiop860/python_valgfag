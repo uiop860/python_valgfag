{
 "cells": [
  {
   "cell_type": "markdown",
   "metadata": {},
   "source": [
    "# Exercises Object-oriented Programming\n",
    "\n",
    "1. Create a Python module, which consists of a class TextContainer. The class must have a constructor which allow objects to be initialized with a text ala: `tc = TextContainer(my_text)`. The class must implement the following methods for computing statistics on texts.\n",
    "    * Counting the amount of words used in a text.\n",
    "    * Counting the amount of chars used in a text.\n",
    "    * Counting the amount of letters, where letters are all ASCII letter characters, see \n",
    "    ```python\n",
    "    import string\n",
    "    string.ascii_letters  # returns 'abcdefghijklmnopqrstuvwxyzABCDEFGHIJKLMNOPQRSTUVWXYZ'\n",
    "    ```\n",
    "    * Remove all punctuation characters, see\n",
    "    ```python\n",
    "    import string\n",
    "    string.punctuation  # returns '!\"#$%&\\'()*+,-./:;<=>?@[\\\\]^_`{|}~'\n",
    "    ```"
   ]
  },
  {
   "cell_type": "code",
   "execution_count": 15,
   "metadata": {},
   "outputs": [
    {
     "name": "stdout",
     "output_type": "stream",
     "text": [
      "60\n",
      "324\n",
      "317\n",
      "No word they spoke, keeping step with the stern precision of soldiers. Together they wheeled through the open doors of the Commercial Trust Building, together they left-turned into the elevator, and simultaneously raised their heads to examine its roof, as though in its panelled ceiling was concealed some Delphic oracle who would answer the riddle which circumstances had set them.\n"
     ]
    }
   ],
   "source": [
    "import string\n",
    "\n",
    "class TextContainer():\n",
    "  \n",
    "  def __init__(self, text):\n",
    "    self.text = text\n",
    "    \n",
    "  def amount_of_words(self):\n",
    "    counter = 0\n",
    "    for word in self.text.split(\" \"):\n",
    "      counter += 1\n",
    "    return counter\n",
    "  \n",
    "  def amount_of_chars(self):\n",
    "    return len(self.text.replace(\" \", \"\"))\n",
    "  \n",
    "  def amount_of_letters(self):\n",
    "    counter = 0\n",
    "    for letter in list(string.ascii_letters):\n",
    "      counter += self.text.count(letter)\n",
    "    return counter\n",
    "  \n",
    "  def remove_punctuation(self):\n",
    "    new_text = \"\"\n",
    "    for letter in list(string.punctuation):\n",
    "      new_text = self.text.replace(letter, '')\n",
    "    return new_text\n",
    "    \n",
    "text = 'No word they spoke, keeping step with the stern precision of soldiers. Together they wheeled through the open doors of the Commercial Trust Building, together they left-turned into the elevator, and simultaneously raised their heads to examine its roof, as though in its panelled ceiling was concealed some Delphic oracle who would answer the riddle which circumstances had set them.' \n",
    "\n",
    "text_container = TextContainer(text)\n",
    "print(text_container.amount_of_words())\n",
    "print(text_container.amount_of_chars())\n",
    "print(text_container.amount_of_letters())\n",
    "print(text_container.remove_punctuation())"
   ]
  },
  {
   "cell_type": "markdown",
   "metadata": {},
   "source": [
    "## Exercise exception\n",
    "1. Create a class called: Person with a constructor that takes a string: name.\n",
    "2. Check if name contains only letters and each new word starts with a capital letter. If this is not the case raise an InvalidArgumentException (your own exception here)\n",
    "\n",
    "3. Test your new class by making 2 instances (one with a name, that follows the rules and another that violates them)"
   ]
  },
  {
   "cell_type": "code",
   "execution_count": 14,
   "metadata": {},
   "outputs": [
    {
     "name": "stdout",
     "output_type": "stream",
     "text": [
      "Indtast string uden tal tak.\n",
      "Indtast string uden tal tak.\n"
     ]
    }
   ],
   "source": [
    "class InvalidArgumentException(Exception):\n",
    "  pass\n",
    "\n",
    "class Person():\n",
    "  \n",
    "  def __init__(self, name):\n",
    "    self.name = name\n",
    "  \n",
    "  def is_string_letters(self):\n",
    "    try:\n",
    "      for letter in list(self.name):\n",
    "        if letter == str:\n",
    "          continue\n",
    "        else:\n",
    "          raise InvalidArgumentException\n",
    "    except InvalidArgumentException:\n",
    "      print(\"Indtast string uden tal tak.\")\n",
    "\n",
    "Person('Lars').is_string_letters()\n",
    "Person('H4nn3').is_string_letters()"
   ]
  },
  {
   "cell_type": "markdown",
   "metadata": {},
   "source": [
    "## 1. Class exercise plotting\n",
    "with the following dataset:  \n",
    "\n",
    "`student_attendance = {'day1':33, 'day2':34,'day3':29,'day4':31,'day5':28,'day6':26,'day7':30}`\n",
    "\n",
    "1. create a line graph showing attendance over time.  \n",
    "**hint:** use keys() and values() method of the dictionary. wrap them in a list as shown in cell below\n",
    "2. add title and labels for x and y axis.\n",
    "\n"
   ]
  },
  {
   "cell_type": "code",
   "execution_count": 20,
   "metadata": {},
   "outputs": [
    {
     "data": {
      "text/plain": [
       "[<matplotlib.lines.Line2D at 0x7fe2b31193d0>]"
      ]
     },
     "execution_count": 20,
     "metadata": {},
     "output_type": "execute_result"
    },
    {
     "data": {
      "image/png": "[encoded data removed]",
      "text/plain": [
       "<Figure size 432x288 with 1 Axes>"
      ]
     },
     "metadata": {
      "needs_background": "light"
     },
     "output_type": "display_data"
    }
   ],
   "source": [
    "import matplotlib.pyplot as plt\n",
    "\n",
    "student_attendance = {'day1':33, 'day2':34,'day3':29,'day4':31,'day5':28,'day6':26,'day7':30}\n",
    "\n",
    "plt.figure()\n",
    "x_values = list(student_attendance.keys())\n",
    "y_values = list(student_attendance.values())\n",
    "\n",
    "plt.plot(x_values, y_values)"
   ]
  }
 ],
 "metadata": {
  "interpreter": {
   "hash": "d4d1e4263499bec80672ea0156c357c1ee493ec2b1c70f0acce89fc37c4a6abe"
  },
  "kernelspec": {
   "display_name": "Python 3.7.6 ('base')",
   "language": "python",
   "name": "python3"
  },
  "language_info": {
   "codemirror_mode": {
    "name": "ipython",
    "version": 3
   },
   "file_extension": ".py",
   "mimetype": "text/x-python",
   "name": "python",
   "nbconvert_exporter": "python",
   "pygments_lexer": "ipython3",
   "version": "3.7.6"
  },
  "orig_nbformat": 4
 },
 "nbformat": 4,
 "nbformat_minor": 2
}
